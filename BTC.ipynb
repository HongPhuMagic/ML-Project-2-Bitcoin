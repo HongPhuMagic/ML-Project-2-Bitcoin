{
 "cells": [
  {
   "cell_type": "markdown",
   "metadata": {},
   "source": [
    "# Bitcoin: price predictions project\n",
    "\n",
    "The goal for this project:\n",
    "\n",
    "Apply RNN, deep learning algorithm, to predict Bitcoin(BTC) prices!\n",
    "\n",
    "I am using RNN since it is often used for Time Series Forecasting. For this project, I chose to make this a Univariate Regression problem (It could be a multivariate problem), algorithms will be used on the the dataset I've created from web scraping! Please check out 'BTC_Scraper' ipython notebook to see how I created this dataset using Selenium. "
   ]
  },
  {
   "cell_type": "markdown",
   "metadata": {},
   "source": [
    "## Dataset"
   ]
  },
  {
   "cell_type": "code",
   "execution_count": 400,
   "metadata": {},
   "outputs": [
    {
     "data": {
      "text/html": [
       "<div>\n",
       "<style scoped>\n",
       "    .dataframe tbody tr th:only-of-type {\n",
       "        vertical-align: middle;\n",
       "    }\n",
       "\n",
       "    .dataframe tbody tr th {\n",
       "        vertical-align: top;\n",
       "    }\n",
       "\n",
       "    .dataframe thead th {\n",
       "        text-align: right;\n",
       "    }\n",
       "</style>\n",
       "<table border=\"1\" class=\"dataframe\">\n",
       "  <thead>\n",
       "    <tr style=\"text-align: right;\">\n",
       "      <th></th>\n",
       "      <th>Date</th>\n",
       "      <th>Open</th>\n",
       "      <th>High</th>\n",
       "      <th>Low</th>\n",
       "      <th>Close</th>\n",
       "      <th>Volumn</th>\n",
       "    </tr>\n",
       "  </thead>\n",
       "  <tbody>\n",
       "    <tr>\n",
       "      <th>0</th>\n",
       "      <td>Aug 08, 2020</td>\n",
       "      <td>11,604.55</td>\n",
       "      <td>11,800.06</td>\n",
       "      <td>11,558.43</td>\n",
       "      <td>11,754.05</td>\n",
       "      <td>17,572,057,837</td>\n",
       "    </tr>\n",
       "    <tr>\n",
       "      <th>1</th>\n",
       "      <td>Aug 07, 2020</td>\n",
       "      <td>11,778.89</td>\n",
       "      <td>11,898.04</td>\n",
       "      <td>11,408.59</td>\n",
       "      <td>11,601.47</td>\n",
       "      <td>23,132,312,867</td>\n",
       "    </tr>\n",
       "    <tr>\n",
       "      <th>2</th>\n",
       "      <td>Aug 06, 2020</td>\n",
       "      <td>11,749.87</td>\n",
       "      <td>11,902.34</td>\n",
       "      <td>11,598.71</td>\n",
       "      <td>11,779.77</td>\n",
       "      <td>23,400,740,340</td>\n",
       "    </tr>\n",
       "    <tr>\n",
       "      <th>3</th>\n",
       "      <td>Aug 05, 2020</td>\n",
       "      <td>11,203.82</td>\n",
       "      <td>11,786.62</td>\n",
       "      <td>11,158.29</td>\n",
       "      <td>11,747.02</td>\n",
       "      <td>24,411,254,471</td>\n",
       "    </tr>\n",
       "    <tr>\n",
       "      <th>4</th>\n",
       "      <td>Aug 04, 2020</td>\n",
       "      <td>11,246.20</td>\n",
       "      <td>11,385.38</td>\n",
       "      <td>11,094.15</td>\n",
       "      <td>11,205.89</td>\n",
       "      <td>21,250,197,042</td>\n",
       "    </tr>\n",
       "  </tbody>\n",
       "</table>\n",
       "</div>"
      ],
      "text/plain": [
       "           Date       Open       High        Low      Close          Volumn\n",
       "0  Aug 08, 2020  11,604.55  11,800.06  11,558.43  11,754.05  17,572,057,837\n",
       "1  Aug 07, 2020  11,778.89  11,898.04  11,408.59  11,601.47  23,132,312,867\n",
       "2  Aug 06, 2020  11,749.87  11,902.34  11,598.71  11,779.77  23,400,740,340\n",
       "3  Aug 05, 2020  11,203.82  11,786.62  11,158.29  11,747.02  24,411,254,471\n",
       "4  Aug 04, 2020  11,246.20  11,385.38  11,094.15  11,205.89  21,250,197,042"
      ]
     },
     "execution_count": 400,
     "metadata": {},
     "output_type": "execute_result"
    }
   ],
   "source": [
    "import numpy as np\n",
    "import pandas as pd\n",
    "import seaborn as sns\n",
    "import matplotlib.pyplot as plt\n",
    "%matplotlib inline\n",
    "\n",
    "btc = pd.read_csv('CMC_BTC_DS.csv')\n",
    "btc.head()"
   ]
  },
  {
   "cell_type": "markdown",
   "metadata": {},
   "source": [
    "I spelt 'Volume' wrong as 'Volumn'."
   ]
  },
  {
   "cell_type": "code",
   "execution_count": 401,
   "metadata": {},
   "outputs": [
    {
     "name": "stdout",
     "output_type": "stream",
     "text": [
      "<class 'pandas.core.frame.DataFrame'>\n",
      "RangeIndex: 2660 entries, 0 to 2659\n",
      "Data columns (total 6 columns):\n",
      " #   Column  Non-Null Count  Dtype \n",
      "---  ------  --------------  ----- \n",
      " 0   Date    2660 non-null   object\n",
      " 1   Open    2660 non-null   object\n",
      " 2   High    2660 non-null   object\n",
      " 3   Low     2660 non-null   object\n",
      " 4   Close   2660 non-null   object\n",
      " 5   Volumn  2660 non-null   object\n",
      "dtypes: object(6)\n",
      "memory usage: 124.8+ KB\n"
     ]
    }
   ],
   "source": [
    "btc.info()"
   ]
  },
  {
   "cell_type": "markdown",
   "metadata": {},
   "source": [
    "There are no missing data and the column types are all objects while it should be numerical data. I'll be converting them into numerical type except for 'Date'. "
   ]
  },
  {
   "cell_type": "code",
   "execution_count": 402,
   "metadata": {},
   "outputs": [],
   "source": [
    "# Converting 'Date' object to datetime type\n",
    "btc['Date'] = pd.to_datetime(btc['Date'])\n",
    "\n",
    "# Converts Open/High/Low/Close/Volume column to float data type respectively\n",
    "btc.Open = btc.Open.astype(str)\n",
    "btc.Open = btc.Open.str.replace(\",\",\"\").astype(float)\n",
    "\n",
    "btc.High = btc.High.astype(str)\n",
    "btc.High = btc.High.str.replace(\",\",\"\").astype(float)\n",
    "\n",
    "btc.Low = btc.Low.astype(str)\n",
    "btc.Low  = btc.Low.str.replace(\",\",\"\").astype(float)\n",
    "\n",
    "btc.Close = btc.Close.astype(str)\n",
    "btc.Close = btc.Close.str.replace(\",\",\"\").astype(float)\n",
    "\n",
    "btc.Volumn = btc.Volumn.astype(str)\n",
    "btc.Volumn = btc.Volumn.str.replace(\",\",\"\").astype(float)"
   ]
  },
  {
   "cell_type": "markdown",
   "metadata": {},
   "source": [
    "The order of the dataframe is in descending order, I want to make it ascending based on the date. "
   ]
  },
  {
   "cell_type": "code",
   "execution_count": 403,
   "metadata": {},
   "outputs": [],
   "source": [
    "# Rename the 'Volumn' column\n",
    "btc = btc.rename(columns={'Volumn':'Volume'})\n",
    "\n",
    "# Added a new column for the Weighted price\n",
    "btc['Weighted_price'] = ((btc['High'] + btc['Low'] + btc['Close'])/3)\n",
    "\n",
    "# Sort 'Date' in ascending order\n",
    "btc = btc.sort_values('Date')"
   ]
  },
  {
   "cell_type": "markdown",
   "metadata": {},
   "source": [
    "## Splitting dataset"
   ]
  },
  {
   "cell_type": "markdown",
   "metadata": {},
   "source": [
    "After making sure the data type is what I want, I am going to split the dataset into a train and test set"
   ]
  },
  {
   "cell_type": "code",
   "execution_count": 404,
   "metadata": {},
   "outputs": [],
   "source": [
    "# The train set will not include the last 10 timestamp\n",
    "train_set = btc.iloc[:-10]\n",
    "\n",
    "# The test set will include the last 10 timestamp\n",
    "test_set = btc.iloc[-10:]"
   ]
  },
  {
   "cell_type": "markdown",
   "metadata": {},
   "source": [
    "The test set will only be use for the final evaluation. "
   ]
  },
  {
   "cell_type": "markdown",
   "metadata": {},
   "source": [
    "Looks like everything is good to go, time to move onto the EDA."
   ]
  },
  {
   "cell_type": "markdown",
   "metadata": {},
   "source": [
    "## EDA"
   ]
  },
  {
   "cell_type": "markdown",
   "metadata": {},
   "source": [
    "Here are what each column means:\n",
    "* Open: An open candle is when we jump onto another time stamp and starts a new candle at that exact price\n",
    "* High: High is the max price reached at the specific time stamp candle \n",
    "* Low: Low is the min price reached at the specific time stamp candle\n",
    "* Close: A close candle is whe price reach right before the start of a new candle in the next timestamp\n",
    "* Volume: Self-explanatory, in USD\n"
   ]
  },
  {
   "cell_type": "code",
   "execution_count": 405,
   "metadata": {},
   "outputs": [
    {
     "data": {
      "text/plain": [
       "Text(0.5, 1.0, 'BTC')"
      ]
     },
     "execution_count": 405,
     "metadata": {},
     "output_type": "execute_result"
    },
    {
     "data": {
      "image/png": "[encoded data removed]",
      "text/plain": [
       "<Figure size 1080x504 with 1 Axes>"
      ]
     },
     "metadata": {
      "needs_background": "light"
     },
     "output_type": "display_data"
    }
   ],
   "source": [
    "# Create Figure (empty canvas)\n",
    "fig = plt.figure(figsize=[15,7])\n",
    "\n",
    "# Add set of axes to figure\n",
    "axes = fig.add_axes([0.1, 0.1, 0.8, 0.8]) # left, bottom, width, height (range 0 to 1)\n",
    "\n",
    "# Plot on that set of axes\n",
    "axes.plot(btc.Date, btc.Weighted_price, '-')\n",
    "axes.set_xlabel('Time stamp (Days)') # Notice the use of set_ to begin methods\n",
    "axes.set_ylabel('Weighted BTC Price (USD)')\n",
    "axes.set_title('BTC')"
   ]
  },
  {
   "cell_type": "markdown",
   "metadata": {},
   "source": [
    "# RNN\n",
    "\n",
    "A problem with using RNN as a learning algorithm is that it requires more of a clear pattern & seasonality and knowing bitcoin, there are usually no patterns since it's a highly manipulative asset. **I will be bulding models with and without Time Series Generator**. With time series generator, as the model tries to forecast further into the future, the errors that it may picked up while trying to forecasting will be magnified the further we try to forecast. I'll prove this by using the testset and comparing to the forecasted data. "
   ]
  },
  {
   "cell_type": "markdown",
   "metadata": {},
   "source": [
    "## Scaling"
   ]
  },
  {
   "cell_type": "markdown",
   "metadata": {},
   "source": [
    "NN requires scaling so we need to scale our label especially since they're going to feed output back into themselves. I never scaled the label themselves before but because we're feeding the output back into themselves we should scale our label. I still plan on scaling to the training dataset only and not include the testset to prevent data leakage.\n"
   ]
  },
  {
   "cell_type": "code",
   "execution_count": 406,
   "metadata": {},
   "outputs": [],
   "source": [
    "# Had to create new dataframe with the Date and label, which should be sorted by ascending date order already\n",
    "train = pd.DataFrame(train_set[['Date','Weighted_price']])\n",
    "\n",
    "# Create new dataframe with the Date and label, sorted by ascending date order already\n",
    "test = pd.DataFrame(test_set[['Date','Weighted_price']])"
   ]
  },
  {
   "cell_type": "code",
   "execution_count": 407,
   "metadata": {},
   "outputs": [],
   "source": [
    "# Import and create an instance for the scaler, MinMaxScaler\n",
    "from sklearn.preprocessing import MinMaxScaler\n",
    "\n",
    "# Set values between 0-1 to aboid domination of high values\n",
    "scale = MinMaxScaler(feature_range=(0,1))\n",
    "\n",
    "# Scaled from training set only to prevent data leakage and any form of cheating\n",
    "scale.fit(np.array(train['Weighted_price']).reshape(-1,1))\n",
    "\n",
    "# Transform on train and test sets\n",
    "train_scaled = scale.transform(np.array(train['Weighted_price']).reshape(-1,1))\n",
    "test_scaled = scale.transform(np.array(test['Weighted_price']).reshape(-1,1))"
   ]
  },
  {
   "cell_type": "markdown",
   "metadata": {},
   "source": [
    "# Without Time series generator "
   ]
  },
  {
   "cell_type": "code",
   "execution_count": 408,
   "metadata": {},
   "outputs": [],
   "source": [
    "from sklearn.metrics import mean_absolute_error, mean_squared_error, r2_score\n",
    "\n",
    "X_train = train.index\n",
    "y_train = train_scaled\n",
    "X_test = test.index\n",
    "y_test = scale.inverse_transform(test_scaled)\n",
    "\n",
    "X_train = np.array(X_train)\n",
    "X_test = np.array(X_test)\n",
    "y_test = np.array(y_test)\n",
    "y_train = np.array(y_train)\n",
    "\n",
    "\n",
    "X_train = X_train.reshape(X_train.shape[0], 1, 1)\n",
    "X_test = X_test.reshape(X_test.shape[0], 1, 1)"
   ]
  },
  {
   "cell_type": "code",
   "execution_count": 378,
   "metadata": {},
   "outputs": [],
   "source": [
    "nt_model = Sequential()\n",
    "\n",
    "nt_model.add(LSTM(100, activation='relu', input_shape=(None,1)))\n",
    "\n",
    "nt_model.add(Dense(1))\n",
    "\n",
    "nt_model.compile(optimizer='adam', loss='mse')"
   ]
  },
  {
   "cell_type": "code",
   "execution_count": 379,
   "metadata": {},
   "outputs": [
    {
     "name": "stdout",
     "output_type": "stream",
     "text": [
      "Epoch 1/25\n",
      "2650/2650 [==============================] - 2s 881us/step - loss: 0.6149\n",
      "Epoch 2/25\n",
      "2650/2650 [==============================] - 2s 872us/step - loss: 0.3983\n",
      "Epoch 3/25\n",
      "2650/2650 [==============================] - 2s 868us/step - loss: 0.1912\n",
      "Epoch 4/25\n",
      "2650/2650 [==============================] - 2s 864us/step - loss: 0.4105\n",
      "Epoch 5/25\n",
      "2650/2650 [==============================] - 2s 904us/step - loss: 0.1278\n",
      "Epoch 6/25\n",
      "2650/2650 [==============================] - 2s 864us/step - loss: 0.1199\n",
      "Epoch 7/25\n",
      "2650/2650 [==============================] - 2s 867us/step - loss: 0.1225\n",
      "Epoch 8/25\n",
      "2650/2650 [==============================] - 2s 929us/step - loss: 0.1166\n",
      "Epoch 9/25\n",
      "2650/2650 [==============================] - 2s 904us/step - loss: 0.0988\n",
      "Epoch 10/25\n",
      "2650/2650 [==============================] - 2s 924us/step - loss: 0.0636\n",
      "Epoch 11/25\n",
      "2650/2650 [==============================] - 2s 908us/step - loss: 0.0378\n",
      "Epoch 12/25\n",
      "2650/2650 [==============================] - 2s 920us/step - loss: 0.0340\n",
      "Epoch 13/25\n",
      "2650/2650 [==============================] - 2s 889us/step - loss: 0.0291\n",
      "Epoch 14/25\n",
      "2650/2650 [==============================] - 2s 868us/step - loss: 0.0245\n",
      "Epoch 15/25\n",
      "2650/2650 [==============================] - 2s 870us/step - loss: 0.0199\n",
      "Epoch 16/25\n",
      "2650/2650 [==============================] - 2s 919us/step - loss: 0.0163\n",
      "Epoch 17/25\n",
      "2650/2650 [==============================] - 2s 875us/step - loss: 0.0172\n",
      "Epoch 18/25\n",
      "2650/2650 [==============================] - 2s 910us/step - loss: 0.0168\n",
      "Epoch 19/25\n",
      "2650/2650 [==============================] - 2s 886us/step - loss: 0.0168\n",
      "Epoch 20/25\n",
      "2650/2650 [==============================] - 2s 871us/step - loss: 0.0169\n",
      "Epoch 21/25\n",
      "2650/2650 [==============================] - 2s 865us/step - loss: 0.0169\n",
      "Epoch 22/25\n",
      "2650/2650 [==============================] - 2s 871us/step - loss: 0.0171\n",
      "Epoch 23/25\n",
      "2650/2650 [==============================] - 2s 871us/step - loss: 0.0169\n",
      "Epoch 24/25\n",
      "2650/2650 [==============================] - 2s 879us/step - loss: 0.0171\n",
      "Epoch 25/25\n",
      "2650/2650 [==============================] - 2s 924us/step - loss: 0.0169\n"
     ]
    },
    {
     "data": {
      "text/plain": [
       "<tensorflow.python.keras.callbacks.History at 0x1a6c4dbf788>"
      ]
     },
     "execution_count": 379,
     "metadata": {},
     "output_type": "execute_result"
    }
   ],
   "source": [
    "nt_model.fit(X_train, y_train, epochs=25, batch_size=1)"
   ]
  },
  {
   "cell_type": "code",
   "execution_count": 380,
   "metadata": {},
   "outputs": [
    {
     "data": {
      "text/plain": [
       "<matplotlib.axes._subplots.AxesSubplot at 0x1a6c6366b48>"
      ]
     },
     "execution_count": 380,
     "metadata": {},
     "output_type": "execute_result"
    },
    {
     "data": {
      "image/png": "[encoded data removed]",
      "text/plain": [
       "<Figure size 432x288 with 1 Axes>"
      ]
     },
     "metadata": {
      "needs_background": "light"
     },
     "output_type": "display_data"
    }
   ],
   "source": [
    "lossess = pd.DataFrame(nt_model.history.history)\n",
    "lossess.plot()"
   ]
  },
  {
   "cell_type": "markdown",
   "metadata": {},
   "source": [
    "## Evaluate on test data w/o generator"
   ]
  },
  {
   "cell_type": "code",
   "execution_count": 411,
   "metadata": {},
   "outputs": [
    {
     "name": "stdout",
     "output_type": "stream",
     "text": [
      "MAE: 4391.883080729166\n",
      "RMSE: 4843.591831369923\n"
     ]
    }
   ],
   "source": [
    "nt_model_pred = nt_model.predict(X_test)\n",
    "# Since the true predictions are scaled, we need to unscale it to compare with the test set that we separated earlier\n",
    "true_predictionss = scale.inverse_transform(nt_model_pred)\n",
    "\n",
    "print('MAE:', mean_absolute_error(y_test, true_predictionss))\n",
    "print('RMSE:', np.sqrt(mean_squared_error(y_test, true_predictionss)))\n",
    "\n",
    "# Creates a new column 'Predictions' onto the test set\n",
    "test['Predictions w/o generator'] = true_pred"
   ]
  },
  {
   "cell_type": "markdown",
   "metadata": {},
   "source": [
    "# With Time series generator"
   ]
  },
  {
   "cell_type": "markdown",
   "metadata": {},
   "source": [
    "Time series generator is used to form batches to feed into the NN. Each batch will contain a desired amount of datapoints and each datapoint can be configured with any number of sequences. Time series generator is good when there are actual seasonality and trends in a period. I don't think there is seasonality in bitcoin but I will use time series generator anyways. If the model underperforms, I will try to build a model without time series generator. By implementing time series generator, when we're trying to predict bitcoin prices, it will use a sequence of timestamps (100 in our case) to predict the price (1 in our case). "
   ]
  },
  {
   "cell_type": "code",
   "execution_count": 382,
   "metadata": {},
   "outputs": [],
   "source": [
    "from tensorflow.keras.preprocessing.sequence import TimeseriesGenerator\n",
    "\n",
    "# Im setting up the length of 100 which hopfully will capture potential entire period \n",
    "length = 100\n",
    "\n",
    "# Creating a generator using train_scaled as a source of x, y, length of 100, and feeding in 1 batch (expect 1 output value) at a time.\n",
    "generator = TimeseriesGenerator(train_scaled, train_scaled, length=100, batch_size=1)"
   ]
  },
  {
   "cell_type": "code",
   "execution_count": 383,
   "metadata": {},
   "outputs": [],
   "source": [
    "# This imports libraries needed to create our model\n",
    "from tensorflow.keras.models import Sequential\n",
    "from tensorflow.keras.layers import LSTM, Dense, Dropout\n",
    "\n",
    "# Using only one feature for the time series\n",
    "n_features = 1"
   ]
  },
  {
   "cell_type": "code",
   "execution_count": 384,
   "metadata": {},
   "outputs": [],
   "source": [
    "# Model creation\n",
    "model = Sequential()\n",
    "\n",
    "# Adding one layer with 100 LSTM specialized neurons with rectified linear unit as the activation function\n",
    "model.add(LSTM(100, activation='relu', input_shape=(length, n_features)))\n",
    "\n",
    "# Final output layer with one neuron\n",
    "model.add(Dense(1))\n",
    "\n",
    "# Compiling the model with adam as the variant descent gradient\n",
    "model.compile(optimizer='adam', loss='mse')"
   ]
  },
  {
   "cell_type": "code",
   "execution_count": 385,
   "metadata": {},
   "outputs": [
    {
     "name": "stdout",
     "output_type": "stream",
     "text": [
      "Model: \"sequential_22\"\n",
      "_________________________________________________________________\n",
      "Layer (type)                 Output Shape              Param #   \n",
      "=================================================================\n",
      "lstm_29 (LSTM)               (None, 100)               40800     \n",
      "_________________________________________________________________\n",
      "dense_22 (Dense)             (None, 1)                 101       \n",
      "=================================================================\n",
      "Total params: 40,901\n",
      "Trainable params: 40,901\n",
      "Non-trainable params: 0\n",
      "_________________________________________________________________\n"
     ]
    }
   ],
   "source": [
    "# Shows the final model summary\n",
    "model.summary()"
   ]
  },
  {
   "cell_type": "code",
   "execution_count": 386,
   "metadata": {},
   "outputs": [
    {
     "name": "stdout",
     "output_type": "stream",
     "text": [
      "Epoch 1/25\n",
      "2550/2550 [==============================] - 55s 22ms/step - loss: 0.0015 - val_loss: 0.0048\n",
      "Epoch 2/25\n",
      "2550/2550 [==============================] - 53s 21ms/step - loss: 5.5284e-04 - val_loss: 4.7302e-04\n",
      "Epoch 3/25\n",
      "2550/2550 [==============================] - 53s 21ms/step - loss: 4.9254e-04 - val_loss: 1.4886e-04\n",
      "Epoch 4/25\n",
      "2550/2550 [==============================] - 53s 21ms/step - loss: 3.6146e-04 - val_loss: 4.8138e-04\n",
      "Epoch 5/25\n",
      "2550/2550 [==============================] - 54s 21ms/step - loss: 2.8941e-04 - val_loss: 4.5413e-04\n",
      "Epoch 6/25\n",
      "2550/2550 [==============================] - 53s 21ms/step - loss: 2.3161e-04 - val_loss: 4.5322e-06\n",
      "Epoch 7/25\n",
      "2550/2550 [==============================] - 52s 20ms/step - loss: 2.2952e-04 - val_loss: 7.1843e-05\n",
      "Epoch 8/25\n",
      "2550/2550 [==============================] - 53s 21ms/step - loss: 1.9342e-04 - val_loss: 1.5575e-04\n",
      "Epoch 9/25\n",
      "2550/2550 [==============================] - 52s 21ms/step - loss: 1.8859e-04 - val_loss: 5.3609e-04\n",
      "Epoch 10/25\n",
      "2550/2550 [==============================] - 52s 20ms/step - loss: 1.9692e-04 - val_loss: 5.2000e-06\n",
      "Epoch 11/25\n",
      "2550/2550 [==============================] - 53s 21ms/step - loss: 1.8199e-04 - val_loss: 2.5220e-05\n",
      "Epoch 00011: early stopping\n"
     ]
    },
    {
     "data": {
      "text/plain": [
       "<tensorflow.python.keras.callbacks.History at 0x1a6c7465988>"
      ]
     },
     "execution_count": 386,
     "metadata": {},
     "output_type": "execute_result"
    }
   ],
   "source": [
    "# Import EarlyStopping to stop the fitting when the val_loss starts to increase instead of decreasing\n",
    "from tensorflow.keras.callbacks import EarlyStopping\n",
    "\n",
    "#Variable instance for the early stop function\n",
    "early_stop = EarlyStopping(monitor= 'val_loss', verbose=1,patience=5)\n",
    "\n",
    "# Since we used a generator, to forecast, for RNN to used the validation data, the validation data has to be a generator too.\n",
    "validation_generator = TimeseriesGenerator(test_scaled, test_scaled, length=9, batch_size=1)\n",
    "\n",
    "# Use fit_generator instead of fit because RNN requires it to make the batch work\n",
    "model.fit(generator, epochs=25, validation_data=validation_generator, callbacks=[early_stop])\n"
   ]
  },
  {
   "cell_type": "code",
   "execution_count": 387,
   "metadata": {},
   "outputs": [
    {
     "data": {
      "text/plain": [
       "<matplotlib.axes._subplots.AxesSubplot at 0x1a6c874b688>"
      ]
     },
     "execution_count": 387,
     "metadata": {},
     "output_type": "execute_result"
    },
    {
     "data": {
      "image/png": "[encoded data removed]",
      "text/plain": [
       "<Figure size 432x288 with 1 Axes>"
      ]
     },
     "metadata": {
      "needs_background": "light"
     },
     "output_type": "display_data"
    }
   ],
   "source": [
    "losses = pd.DataFrame(model.history.history)\n",
    "losses.plot()"
   ]
  },
  {
   "cell_type": "markdown",
   "metadata": {},
   "source": [
    "## Evaluate on test data w/ generator"
   ]
  },
  {
   "cell_type": "code",
   "execution_count": 415,
   "metadata": {},
   "outputs": [],
   "source": [
    "test_predictions = []\n",
    "\n",
    "# I'm creating a batch till the begining of the testset so when I compare the forecast and testset, it'll have matching timestamps\n",
    "first_eval_batch = train_scaled[-100:]\n",
    "\n",
    "# Reshaping the batch since it needs to have the same shape since rNN expects it. Predicts one timestamp ahead\n",
    "current_batch = first_eval_batch.reshape((1, 100, n_features))\n",
    "\n",
    "for i in range(len(test)):\n",
    "    \n",
    "    # get prediction 1 time stamp ahead ([0] is for grabbing just the number instead of [array])\n",
    "    current_pred = model.predict(current_batch)[0]\n",
    "\n",
    "    # store prediction\n",
    "    test_predictions.append(current_pred) \n",
    "    \n",
    "    # update batch to now include prediction and drop first value\n",
    "    current_batch = np.append(current_batch[:,1:,:], [[current_pred]], axis=1)"
   ]
  },
  {
   "cell_type": "code",
   "execution_count": 419,
   "metadata": {},
   "outputs": [
    {
     "name": "stdout",
     "output_type": "stream",
     "text": [
      "MAE: 393.66248145318184\n",
      "RMSE: 462.76183224572395\n"
     ]
    }
   ],
   "source": [
    "# Since the true predictions are scaled, we need to unscale it to compare with the test set that we separated earlier\n",
    "true_predictions = scale.inverse_transform(test_predictions)\n",
    "\n",
    "print('MAE:', mean_absolute_error(y_test, true_predictions))\n",
    "print('RMSE:', np.sqrt(mean_squared_error(y_test, true_predictions)))"
   ]
  },
  {
   "cell_type": "code",
   "execution_count": 421,
   "metadata": {},
   "outputs": [],
   "source": [
    "# Creates a new column 'Predictions' onto the test set\n",
    "test['Predictions w/ generator'] = true_predictions"
   ]
  },
  {
   "cell_type": "code",
   "execution_count": 423,
   "metadata": {},
   "outputs": [],
   "source": [
    "test.set_index('Date',inplace=True)"
   ]
  },
  {
   "cell_type": "code",
   "execution_count": 424,
   "metadata": {},
   "outputs": [
    {
     "data": {
      "text/plain": [
       "<matplotlib.axes._subplots.AxesSubplot at 0x1a6c990a788>"
      ]
     },
     "execution_count": 424,
     "metadata": {},
     "output_type": "execute_result"
    },
    {
     "data": {
      "image/png": "[encoded data removed]",
      "text/plain": [
       "<Figure size 1080x576 with 1 Axes>"
      ]
     },
     "metadata": {
      "needs_background": "light"
     },
     "output_type": "display_data"
    }
   ],
   "source": [
    "test.plot(figsize=(15,8))"
   ]
  },
  {
   "cell_type": "markdown",
   "metadata": {},
   "source": [
    "# Forcasting into the unknown\n",
    "\n",
    "The RNN model with the time series generator performed better than the RNN model without time series generator. I will be using the RNN model with the time series generator to predict into the unknown."
   ]
  },
  {
   "cell_type": "code",
   "execution_count": 432,
   "metadata": {},
   "outputs": [],
   "source": [
    "full_set = btc[['Date', 'Weighted_price']]"
   ]
  },
  {
   "cell_type": "code",
   "execution_count": 460,
   "metadata": {},
   "outputs": [
    {
     "data": {
      "text/html": [
       "<div>\n",
       "<style scoped>\n",
       "    .dataframe tbody tr th:only-of-type {\n",
       "        vertical-align: middle;\n",
       "    }\n",
       "\n",
       "    .dataframe tbody tr th {\n",
       "        vertical-align: top;\n",
       "    }\n",
       "\n",
       "    .dataframe thead th {\n",
       "        text-align: right;\n",
       "    }\n",
       "</style>\n",
       "<table border=\"1\" class=\"dataframe\">\n",
       "  <thead>\n",
       "    <tr style=\"text-align: right;\">\n",
       "      <th></th>\n",
       "      <th>Date</th>\n",
       "      <th>Weighted_price</th>\n",
       "    </tr>\n",
       "  </thead>\n",
       "  <tbody>\n",
       "    <tr>\n",
       "      <th>2659</th>\n",
       "      <td>2013-04-28</td>\n",
       "      <td>134.096667</td>\n",
       "    </tr>\n",
       "    <tr>\n",
       "      <th>2658</th>\n",
       "      <td>2013-04-29</td>\n",
       "      <td>142.010000</td>\n",
       "    </tr>\n",
       "    <tr>\n",
       "      <th>2657</th>\n",
       "      <td>2013-04-30</td>\n",
       "      <td>139.993333</td>\n",
       "    </tr>\n",
       "    <tr>\n",
       "      <th>2656</th>\n",
       "      <td>2013-05-01</td>\n",
       "      <td>121.533333</td>\n",
       "    </tr>\n",
       "    <tr>\n",
       "      <th>2655</th>\n",
       "      <td>2013-05-02</td>\n",
       "      <td>107.696667</td>\n",
       "    </tr>\n",
       "    <tr>\n",
       "      <th>...</th>\n",
       "      <td>...</td>\n",
       "      <td>...</td>\n",
       "    </tr>\n",
       "    <tr>\n",
       "      <th>4</th>\n",
       "      <td>2020-08-04</td>\n",
       "      <td>11228.473333</td>\n",
       "    </tr>\n",
       "    <tr>\n",
       "      <th>3</th>\n",
       "      <td>2020-08-05</td>\n",
       "      <td>11563.976667</td>\n",
       "    </tr>\n",
       "    <tr>\n",
       "      <th>2</th>\n",
       "      <td>2020-08-06</td>\n",
       "      <td>11760.273333</td>\n",
       "    </tr>\n",
       "    <tr>\n",
       "      <th>1</th>\n",
       "      <td>2020-08-07</td>\n",
       "      <td>11636.033333</td>\n",
       "    </tr>\n",
       "    <tr>\n",
       "      <th>0</th>\n",
       "      <td>2020-08-08</td>\n",
       "      <td>11704.180000</td>\n",
       "    </tr>\n",
       "  </tbody>\n",
       "</table>\n",
       "<p>2660 rows × 2 columns</p>\n",
       "</div>"
      ],
      "text/plain": [
       "           Date  Weighted_price\n",
       "2659 2013-04-28      134.096667\n",
       "2658 2013-04-29      142.010000\n",
       "2657 2013-04-30      139.993333\n",
       "2656 2013-05-01      121.533333\n",
       "2655 2013-05-02      107.696667\n",
       "...         ...             ...\n",
       "4    2020-08-04    11228.473333\n",
       "3    2020-08-05    11563.976667\n",
       "2    2020-08-06    11760.273333\n",
       "1    2020-08-07    11636.033333\n",
       "0    2020-08-08    11704.180000\n",
       "\n",
       "[2660 rows x 2 columns]"
      ]
     },
     "execution_count": 460,
     "metadata": {},
     "output_type": "execute_result"
    }
   ],
   "source": [
    "full_set"
   ]
  },
  {
   "cell_type": "code",
   "execution_count": 433,
   "metadata": {},
   "outputs": [],
   "source": [
    "# Set values between 0-1 to aboid domination of high values\n",
    "full_scale = MinMaxScaler(feature_range=(0,1))\n",
    "\n",
    "# Scaled from training set only to prevent data leakage and any form of cheating\n",
    "full_scale.fit(np.array(full_set['Weighted_price']).reshape(-1,1))\n",
    "\n",
    "# Transform on train and test sets\n",
    "full_scaled = full_scale.transform(np.array(full_set['Weighted_price']).reshape(-1,1))"
   ]
  },
  {
   "cell_type": "code",
   "execution_count": 434,
   "metadata": {},
   "outputs": [],
   "source": [
    "generator = TimeseriesGenerator(full_scaled, full_scaled, length=100, batch_size=1)\n",
    "\n",
    "# Model creation\n",
    "f_model = Sequential()\n",
    "\n",
    "# Adding one layer with 100 LSTM specialized neurons with rectified linear unit as the activation function\n",
    "f_model.add(LSTM(100, activation='relu', input_shape=(length, n_features)))\n",
    "\n",
    "# Final output layer with one neuron\n",
    "f_model.add(Dense(1))\n",
    "\n",
    "# Compiling the model with adam as the variant descent gradient\n",
    "f_model.compile(optimizer='adam', loss='mse')"
   ]
  },
  {
   "cell_type": "code",
   "execution_count": 435,
   "metadata": {},
   "outputs": [
    {
     "name": "stdout",
     "output_type": "stream",
     "text": [
      "Epoch 1/11\n",
      "2560/2560 [==============================] - 60s 23ms/step - loss: 0.0012\n",
      "Epoch 2/11\n",
      "2560/2560 [==============================] - 56s 22ms/step - loss: 4.4920e-04\n",
      "Epoch 3/11\n",
      "2560/2560 [==============================] - 58s 23ms/step - loss: 3.3352e-04\n",
      "Epoch 4/11\n",
      "2560/2560 [==============================] - 56s 22ms/step - loss: 2.6941e-04\n",
      "Epoch 5/11\n",
      "2560/2560 [==============================] - 56s 22ms/step - loss: 2.4625e-04\n",
      "Epoch 6/11\n",
      "2560/2560 [==============================] - 54s 21ms/step - loss: 2.0077e-04\n",
      "Epoch 7/11\n",
      "2560/2560 [==============================] - 54s 21ms/step - loss: 2.0353e-04\n",
      "Epoch 8/11\n",
      "2560/2560 [==============================] - 54s 21ms/step - loss: 1.9244e-04\n",
      "Epoch 9/11\n",
      "2560/2560 [==============================] - 54s 21ms/step - loss: 1.9111e-04\n",
      "Epoch 10/11\n",
      "2560/2560 [==============================] - 54s 21ms/step - loss: 1.7780e-04\n",
      "Epoch 11/11\n",
      "2560/2560 [==============================] - 58s 23ms/step - loss: 1.7852e-04\n"
     ]
    },
    {
     "data": {
      "text/plain": [
       "<tensorflow.python.keras.callbacks.History at 0x1a6ca742d48>"
      ]
     },
     "execution_count": 435,
     "metadata": {},
     "output_type": "execute_result"
    }
   ],
   "source": [
    "f_model.fit(generator, epochs=11)"
   ]
  },
  {
   "cell_type": "code",
   "execution_count": 486,
   "metadata": {},
   "outputs": [],
   "source": [
    "forecast = []\n",
    "\n",
    "# I'm creating a batch till the begining of the testset so when I compare the forecast and testset, it'll have matching timestamps\n",
    "first_eval_batch = train_scaled[-100:]\n",
    "\n",
    "# Reshaping the batch since it needs to have the same shape since rNN expects it. Predicts one timestamp ahead\n",
    "current_batch = first_eval_batch.reshape((1, 100, n_features))\n",
    "\n",
    "for i in range(20):\n",
    "    \n",
    "    # get prediction 1 time stamp ahead ([0] is for grabbing just the number instead of [array])\n",
    "    current_pred = model.predict(current_batch)[0]\n",
    "\n",
    "    # store prediction\n",
    "    forecast.append(current_pred) \n",
    "    \n",
    "    # update batch to now include prediction and drop first value\n",
    "    current_batch = np.append(current_batch[:,1:,:], [[current_pred]], axis=1)"
   ]
  },
  {
   "cell_type": "code",
   "execution_count": 487,
   "metadata": {},
   "outputs": [],
   "source": [
    "forecast = full_scale.inverse_transform(forecast)"
   ]
  },
  {
   "cell_type": "code",
   "execution_count": 488,
   "metadata": {},
   "outputs": [],
   "source": [
    "def date_time(): \n",
    "    date = []\n",
    "    for i in range(20):\n",
    "        date.append('Aug ' + str(9+i) + ', 2020')\n",
    "    return date"
   ]
  },
  {
   "cell_type": "code",
   "execution_count": 489,
   "metadata": {},
   "outputs": [],
   "source": [
    "forecasted = pd.DataFrame(data=forecast, columns=['Weighted_price'])\n",
    "forecasted['Date'] = date_time()\n",
    "\n",
    "# Converting 'Date' object to datetime type\n",
    "forecasted['Date'] = pd.to_datetime(forecasted['Date'])\n",
    "\n",
    "con = pd.concat([full_set, forecasted], axis=0)\n",
    "con.set_index('Date',inplace=True)"
   ]
  },
  {
   "cell_type": "code",
   "execution_count": 492,
   "metadata": {},
   "outputs": [
    {
     "data": {
      "text/html": [
       "<div>\n",
       "<style scoped>\n",
       "    .dataframe tbody tr th:only-of-type {\n",
       "        vertical-align: middle;\n",
       "    }\n",
       "\n",
       "    .dataframe tbody tr th {\n",
       "        vertical-align: top;\n",
       "    }\n",
       "\n",
       "    .dataframe thead th {\n",
       "        text-align: right;\n",
       "    }\n",
       "</style>\n",
       "<table border=\"1\" class=\"dataframe\">\n",
       "  <thead>\n",
       "    <tr style=\"text-align: right;\">\n",
       "      <th></th>\n",
       "      <th>Weighted_price</th>\n",
       "    </tr>\n",
       "    <tr>\n",
       "      <th>Date</th>\n",
       "      <th></th>\n",
       "    </tr>\n",
       "  </thead>\n",
       "  <tbody>\n",
       "    <tr>\n",
       "      <th>2013-04-28</th>\n",
       "      <td>134.096667</td>\n",
       "    </tr>\n",
       "    <tr>\n",
       "      <th>2013-04-29</th>\n",
       "      <td>142.010000</td>\n",
       "    </tr>\n",
       "    <tr>\n",
       "      <th>2013-04-30</th>\n",
       "      <td>139.993333</td>\n",
       "    </tr>\n",
       "    <tr>\n",
       "      <th>2013-05-01</th>\n",
       "      <td>121.533333</td>\n",
       "    </tr>\n",
       "    <tr>\n",
       "      <th>2013-05-02</th>\n",
       "      <td>107.696667</td>\n",
       "    </tr>\n",
       "    <tr>\n",
       "      <th>...</th>\n",
       "      <td>...</td>\n",
       "    </tr>\n",
       "    <tr>\n",
       "      <th>2020-08-24</th>\n",
       "      <td>10888.616401</td>\n",
       "    </tr>\n",
       "    <tr>\n",
       "      <th>2020-08-25</th>\n",
       "      <td>10870.815011</td>\n",
       "    </tr>\n",
       "    <tr>\n",
       "      <th>2020-08-26</th>\n",
       "      <td>10853.176080</td>\n",
       "    </tr>\n",
       "    <tr>\n",
       "      <th>2020-08-27</th>\n",
       "      <td>10835.727261</td>\n",
       "    </tr>\n",
       "    <tr>\n",
       "      <th>2020-08-28</th>\n",
       "      <td>10818.489293</td>\n",
       "    </tr>\n",
       "  </tbody>\n",
       "</table>\n",
       "<p>2680 rows × 1 columns</p>\n",
       "</div>"
      ],
      "text/plain": [
       "            Weighted_price\n",
       "Date                      \n",
       "2013-04-28      134.096667\n",
       "2013-04-29      142.010000\n",
       "2013-04-30      139.993333\n",
       "2013-05-01      121.533333\n",
       "2013-05-02      107.696667\n",
       "...                    ...\n",
       "2020-08-24    10888.616401\n",
       "2020-08-25    10870.815011\n",
       "2020-08-26    10853.176080\n",
       "2020-08-27    10835.727261\n",
       "2020-08-28    10818.489293\n",
       "\n",
       "[2680 rows x 1 columns]"
      ]
     },
     "execution_count": 492,
     "metadata": {},
     "output_type": "execute_result"
    }
   ],
   "source": [
    "con"
   ]
  },
  {
   "cell_type": "code",
   "execution_count": 491,
   "metadata": {},
   "outputs": [
    {
     "data": {
      "text/plain": [
       "Text(0.5, 1.0, 'BTC')"
      ]
     },
     "execution_count": 491,
     "metadata": {},
     "output_type": "execute_result"
    },
    {
     "data": {
      "image/png": "[encoded data removed]",
      "text/plain": [
       "<Figure size 1080x504 with 1 Axes>"
      ]
     },
     "metadata": {
      "needs_background": "light"
     },
     "output_type": "display_data"
    }
   ],
   "source": [
    "# Create Figure (empty canvas)\n",
    "fig = plt.figure(figsize=[15,7])\n",
    "\n",
    "# Add set of axes to figure\n",
    "axes = fig.add_axes([0.1, 0.1, 0.8, 0.8]) # left, bottom, width, height (range 0 to 1)\n",
    "\n",
    "# Plot on that set of axes\n",
    "axes.plot(full_set.Date, full_set.Weighted_price, '-')\n",
    "axes.plot(forecasted.Date, forecasted.Weighted_price, '-')\n",
    "axes.set_xlabel('Time stamp (Days)') # Notice the use of set_ to begin methods\n",
    "axes.set_ylabel('Weighted BTC Price (USD)')\n",
    "axes.set_title('BTC')"
   ]
  },
  {
   "cell_type": "markdown",
   "metadata": {},
   "source": [
    "## RNN conclusion\n",
    "\n",
    "In this project, I've built two different RNN model; \n",
    "* RNN **with** Time Series Generator\n",
    "    * MAE: 4391.883080729166\n",
    "    * RMSE: 4843.591831369923\n",
    "* RNN **without** Time Series Generator\n",
    "    * MAE: 393.66248145318184\n",
    "    * RMSE: 462.76183224572395\n",
    "\n",
    "The RNN model with the time series generator had better performance than the RNN model without time series generator. By using RNN model with time series generator, as the model tries to forecast further into the future, the errors that it may picked up while trying to forecast will be magnified the further we try to forecast because the model will be forecasting the forecast. Fortunately the testset had only 10 timestamp but, if we do decide to forcast even furthur, we will notice the performance drop the further we forcast."
   ]
  }
 ],
 "metadata": {
  "kernelspec": {
   "display_name": "Python 3",
   "language": "python",
   "name": "python3"
  },
  "language_info": {
   "codemirror_mode": {
    "name": "ipython",
    "version": 3
   },
   "file_extension": ".py",
   "mimetype": "text/x-python",
   "name": "python",
   "nbconvert_exporter": "python",
   "pygments_lexer": "ipython3",
   "version": "3.7.6"
  }
 },
 "nbformat": 4,
 "nbformat_minor": 4
}
