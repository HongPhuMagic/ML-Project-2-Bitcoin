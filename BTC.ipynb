{
 "cells": [
  {
   "cell_type": "markdown",
   "metadata": {},
   "source": [
    "# Bitcoin: price predictions project\n",
    "\n",
    "The goal for this project:\n",
    "\n",
    "Apply two machine learning algorithm to predict Bitcoin(BTC) prices!;\n",
    "* ARIMA\n",
    "* rNN\n",
    "\n",
    "I am using ARIMA and rNN since it is often used for Time Series Forecasting. For this project, I chose to make this a Univariate Regression problem (It could be a multivariate problem), algorithms will be used on the the dataset I've created from web scraping! Please check out 'BTC_Scraper' ipython notebook to see how I created this dataset using Selenium. "
   ]
  },
  {
   "cell_type": "markdown",
   "metadata": {},
   "source": [
    "## Dataset"
   ]
  },
  {
   "cell_type": "code",
   "execution_count": 55,
   "metadata": {},
   "outputs": [
    {
     "data": {
      "text/html": [
       "<div>\n",
       "<style scoped>\n",
       "    .dataframe tbody tr th:only-of-type {\n",
       "        vertical-align: middle;\n",
       "    }\n",
       "\n",
       "    .dataframe tbody tr th {\n",
       "        vertical-align: top;\n",
       "    }\n",
       "\n",
       "    .dataframe thead th {\n",
       "        text-align: right;\n",
       "    }\n",
       "</style>\n",
       "<table border=\"1\" class=\"dataframe\">\n",
       "  <thead>\n",
       "    <tr style=\"text-align: right;\">\n",
       "      <th></th>\n",
       "      <th>Date</th>\n",
       "      <th>Open</th>\n",
       "      <th>High</th>\n",
       "      <th>Low</th>\n",
       "      <th>Close</th>\n",
       "      <th>Volumn</th>\n",
       "    </tr>\n",
       "  </thead>\n",
       "  <tbody>\n",
       "    <tr>\n",
       "      <th>0</th>\n",
       "      <td>Aug 08, 2020</td>\n",
       "      <td>11,604.55</td>\n",
       "      <td>11,800.06</td>\n",
       "      <td>11,558.43</td>\n",
       "      <td>11,754.05</td>\n",
       "      <td>17,572,057,837</td>\n",
       "    </tr>\n",
       "    <tr>\n",
       "      <th>1</th>\n",
       "      <td>Aug 07, 2020</td>\n",
       "      <td>11,778.89</td>\n",
       "      <td>11,898.04</td>\n",
       "      <td>11,408.59</td>\n",
       "      <td>11,601.47</td>\n",
       "      <td>23,132,312,867</td>\n",
       "    </tr>\n",
       "    <tr>\n",
       "      <th>2</th>\n",
       "      <td>Aug 06, 2020</td>\n",
       "      <td>11,749.87</td>\n",
       "      <td>11,902.34</td>\n",
       "      <td>11,598.71</td>\n",
       "      <td>11,779.77</td>\n",
       "      <td>23,400,740,340</td>\n",
       "    </tr>\n",
       "    <tr>\n",
       "      <th>3</th>\n",
       "      <td>Aug 05, 2020</td>\n",
       "      <td>11,203.82</td>\n",
       "      <td>11,786.62</td>\n",
       "      <td>11,158.29</td>\n",
       "      <td>11,747.02</td>\n",
       "      <td>24,411,254,471</td>\n",
       "    </tr>\n",
       "    <tr>\n",
       "      <th>4</th>\n",
       "      <td>Aug 04, 2020</td>\n",
       "      <td>11,246.20</td>\n",
       "      <td>11,385.38</td>\n",
       "      <td>11,094.15</td>\n",
       "      <td>11,205.89</td>\n",
       "      <td>21,250,197,042</td>\n",
       "    </tr>\n",
       "  </tbody>\n",
       "</table>\n",
       "</div>"
      ],
      "text/plain": [
       "           Date       Open       High        Low      Close          Volumn\n",
       "0  Aug 08, 2020  11,604.55  11,800.06  11,558.43  11,754.05  17,572,057,837\n",
       "1  Aug 07, 2020  11,778.89  11,898.04  11,408.59  11,601.47  23,132,312,867\n",
       "2  Aug 06, 2020  11,749.87  11,902.34  11,598.71  11,779.77  23,400,740,340\n",
       "3  Aug 05, 2020  11,203.82  11,786.62  11,158.29  11,747.02  24,411,254,471\n",
       "4  Aug 04, 2020  11,246.20  11,385.38  11,094.15  11,205.89  21,250,197,042"
      ]
     },
     "execution_count": 55,
     "metadata": {},
     "output_type": "execute_result"
    }
   ],
   "source": [
    "import numpy as np\n",
    "import pandas as pd\n",
    "import seaborn as sns\n",
    "import matplotlib.pyplot as plt\n",
    "%matplotlib inline\n",
    "\n",
    "btc = pd.read_csv('CMC_BTC_DS.csv')\n",
    "btc.head()"
   ]
  },
  {
   "cell_type": "markdown",
   "metadata": {},
   "source": [
    "I spelt 'Volume' wrong as 'Volumn'."
   ]
  },
  {
   "cell_type": "code",
   "execution_count": 56,
   "metadata": {},
   "outputs": [
    {
     "name": "stdout",
     "output_type": "stream",
     "text": [
      "<class 'pandas.core.frame.DataFrame'>\n",
      "RangeIndex: 2660 entries, 0 to 2659\n",
      "Data columns (total 6 columns):\n",
      " #   Column  Non-Null Count  Dtype \n",
      "---  ------  --------------  ----- \n",
      " 0   Date    2660 non-null   object\n",
      " 1   Open    2660 non-null   object\n",
      " 2   High    2660 non-null   object\n",
      " 3   Low     2660 non-null   object\n",
      " 4   Close   2660 non-null   object\n",
      " 5   Volumn  2660 non-null   object\n",
      "dtypes: object(6)\n",
      "memory usage: 124.8+ KB\n"
     ]
    }
   ],
   "source": [
    "btc.info()"
   ]
  },
  {
   "cell_type": "markdown",
   "metadata": {},
   "source": [
    "There are no missing data and the column types are all objects while it should be numerical data. I'll be converting them into numerical type except for 'Date'. "
   ]
  },
  {
   "cell_type": "code",
   "execution_count": 57,
   "metadata": {},
   "outputs": [],
   "source": [
    "btc['Date'] = pd.to_datetime(btc['Date'])\n",
    "\n",
    "# Converts Open/High/Low/Close/Volume column to float data type respectively\n",
    "btc.Open = btc.Open.astype(str)\n",
    "btc.Open = btc.Open.str.replace(\",\",\"\").astype(float)\n",
    "\n",
    "btc.High = btc.High.astype(str)\n",
    "btc.High = btc.High.str.replace(\",\",\"\").astype(float)\n",
    "\n",
    "btc.Low = btc.Low.astype(str)\n",
    "btc.Low  = btc.Low.str.replace(\",\",\"\").astype(float)\n",
    "\n",
    "btc.Close = btc.Close.astype(str)\n",
    "btc.Close = btc.Close.str.replace(\",\",\"\").astype(float)\n",
    "\n",
    "btc.Volumn = btc.Volumn.astype(str)\n",
    "btc.Volumn = btc.Volumn.str.replace(\",\",\"\").astype(float)"
   ]
  },
  {
   "cell_type": "markdown",
   "metadata": {},
   "source": [
    "The order of the dataframe is in descending order, I want to make it ascending based on the date. "
   ]
  },
  {
   "cell_type": "code",
   "execution_count": 58,
   "metadata": {},
   "outputs": [
    {
     "name": "stdout",
     "output_type": "stream",
     "text": [
      "<class 'pandas.core.frame.DataFrame'>\n",
      "DatetimeIndex: 2660 entries, 2013-04-28 to 2020-08-08\n",
      "Data columns (total 6 columns):\n",
      " #   Column          Non-Null Count  Dtype  \n",
      "---  ------          --------------  -----  \n",
      " 0   Open            2660 non-null   float64\n",
      " 1   High            2660 non-null   float64\n",
      " 2   Low             2660 non-null   float64\n",
      " 3   Close           2660 non-null   float64\n",
      " 4   Volume          2660 non-null   float64\n",
      " 5   Weighted_price  2660 non-null   float64\n",
      "dtypes: float64(6)\n",
      "memory usage: 145.5 KB\n"
     ]
    },
    {
     "data": {
      "text/html": [
       "<div>\n",
       "<style scoped>\n",
       "    .dataframe tbody tr th:only-of-type {\n",
       "        vertical-align: middle;\n",
       "    }\n",
       "\n",
       "    .dataframe tbody tr th {\n",
       "        vertical-align: top;\n",
       "    }\n",
       "\n",
       "    .dataframe thead th {\n",
       "        text-align: right;\n",
       "    }\n",
       "</style>\n",
       "<table border=\"1\" class=\"dataframe\">\n",
       "  <thead>\n",
       "    <tr style=\"text-align: right;\">\n",
       "      <th></th>\n",
       "      <th>Open</th>\n",
       "      <th>High</th>\n",
       "      <th>Low</th>\n",
       "      <th>Close</th>\n",
       "      <th>Volume</th>\n",
       "      <th>Weighted_price</th>\n",
       "    </tr>\n",
       "    <tr>\n",
       "      <th>Date</th>\n",
       "      <th></th>\n",
       "      <th></th>\n",
       "      <th></th>\n",
       "      <th></th>\n",
       "      <th></th>\n",
       "      <th></th>\n",
       "    </tr>\n",
       "  </thead>\n",
       "  <tbody>\n",
       "    <tr>\n",
       "      <th>2013-04-28</th>\n",
       "      <td>135.30</td>\n",
       "      <td>135.98</td>\n",
       "      <td>132.10</td>\n",
       "      <td>134.21</td>\n",
       "      <td>0.0</td>\n",
       "      <td>134.096667</td>\n",
       "    </tr>\n",
       "    <tr>\n",
       "      <th>2013-04-29</th>\n",
       "      <td>134.44</td>\n",
       "      <td>147.49</td>\n",
       "      <td>134.00</td>\n",
       "      <td>144.54</td>\n",
       "      <td>0.0</td>\n",
       "      <td>142.010000</td>\n",
       "    </tr>\n",
       "    <tr>\n",
       "      <th>2013-04-30</th>\n",
       "      <td>144.00</td>\n",
       "      <td>146.93</td>\n",
       "      <td>134.05</td>\n",
       "      <td>139.00</td>\n",
       "      <td>0.0</td>\n",
       "      <td>139.993333</td>\n",
       "    </tr>\n",
       "    <tr>\n",
       "      <th>2013-05-01</th>\n",
       "      <td>139.00</td>\n",
       "      <td>139.89</td>\n",
       "      <td>107.72</td>\n",
       "      <td>116.99</td>\n",
       "      <td>0.0</td>\n",
       "      <td>121.533333</td>\n",
       "    </tr>\n",
       "    <tr>\n",
       "      <th>2013-05-02</th>\n",
       "      <td>116.38</td>\n",
       "      <td>125.60</td>\n",
       "      <td>92.28</td>\n",
       "      <td>105.21</td>\n",
       "      <td>0.0</td>\n",
       "      <td>107.696667</td>\n",
       "    </tr>\n",
       "  </tbody>\n",
       "</table>\n",
       "</div>"
      ],
      "text/plain": [
       "              Open    High     Low   Close  Volume  Weighted_price\n",
       "Date                                                              \n",
       "2013-04-28  135.30  135.98  132.10  134.21     0.0      134.096667\n",
       "2013-04-29  134.44  147.49  134.00  144.54     0.0      142.010000\n",
       "2013-04-30  144.00  146.93  134.05  139.00     0.0      139.993333\n",
       "2013-05-01  139.00  139.89  107.72  116.99     0.0      121.533333\n",
       "2013-05-02  116.38  125.60   92.28  105.21     0.0      107.696667"
      ]
     },
     "execution_count": 58,
     "metadata": {},
     "output_type": "execute_result"
    }
   ],
   "source": [
    "# Rename the 'Volumn' column\n",
    "btc = btc.rename(columns={'Volumn':'Volume'})\n",
    "\n",
    "# Added a new column for the Weighted price\n",
    "btc['Weighted_price'] = ((btc['High'] + btc['Low'] + btc['Close'])/3)\n",
    "\n",
    "# Sort 'Date' in ascending order\n",
    "btc = btc.sort_values('Date')\n",
    "\n",
    "btc.set_index('Date',inplace=True)\n",
    "\n",
    "# Checking if all of the modification has desired effect\n",
    "btc.info()\n",
    "btc.head()"
   ]
  },
  {
   "cell_type": "markdown",
   "metadata": {},
   "source": [
    "## Splitting dataset"
   ]
  },
  {
   "cell_type": "code",
   "execution_count": 59,
   "metadata": {},
   "outputs": [],
   "source": [
    "# After making sure the data type is what I want, I am going to split the dataset into a Train and Test set\n",
    "\n",
    "# Makes train index 90% of the BTC dataset\n",
    "train_index = int(np.round(len(btc) * 0.9))\n",
    "\n",
    "# Makes test index the remaining 10% of the BTC dataset\n",
    "test_index = int(len(btc) - train_index)\n",
    "\n",
    "# Sets the first 90% dataset, time sequence to train_set variable\n",
    "train_set = btc.iloc[:train_index]\n",
    "\n",
    "# Sets the remaining 10% btc dataset to test_set variable\n",
    "test_set = btc.iloc[train_index:]"
   ]
  },
  {
   "cell_type": "markdown",
   "metadata": {},
   "source": [
    "The test set will only be use for the model evaluation. "
   ]
  },
  {
   "cell_type": "markdown",
   "metadata": {},
   "source": [
    "Looks like everything is good to go, time to move onto the EDA."
   ]
  },
  {
   "cell_type": "markdown",
   "metadata": {},
   "source": [
    "## EDA"
   ]
  },
  {
   "cell_type": "markdown",
   "metadata": {},
   "source": [
    "Here are what each column means:\n",
    "* Open: An open candle is when we jump onto another time stamp and starts a new candle at that exact price\n",
    "* High: High is the max price reached at the specific time stamp candle \n",
    "* Low: Low is the min price reached at the specific time stamp candle\n",
    "* Close: A close candle is whe price reach right before the start of a new candle in the next timestamp\n",
    "* Volume: Self-explanatory, in USD\n"
   ]
  },
  {
   "cell_type": "code",
   "execution_count": 60,
   "metadata": {},
   "outputs": [
    {
     "data": {
      "text/plain": [
       "Text(0.5, 1.0, 'BTC')"
      ]
     },
     "execution_count": 60,
     "metadata": {},
     "output_type": "execute_result"
    },
    {
     "data": {
      "image/png": "[encoded data removed]",
      "text/plain": [
       "<Figure size 1080x504 with 1 Axes>"
      ]
     },
     "metadata": {
      "needs_background": "light"
     },
     "output_type": "display_data"
    }
   ],
   "source": [
    "# Create Figure (empty canvas)\n",
    "fig = plt.figure(figsize=[15,7])\n",
    "\n",
    "# Add set of axes to figure\n",
    "axes = fig.add_axes([0.1, 0.1, 0.8, 0.8]) # left, bottom, width, height (range 0 to 1)\n",
    "\n",
    "# Plot on that set of axes\n",
    "axes.plot(btc.index, btc.Weighted_price, '-')\n",
    "axes.set_xlabel('Time stamp (Days)') # Notice the use of set_ to begin methods\n",
    "axes.set_ylabel('Weighted BTC Price (USD)')\n",
    "axes.set_title('BTC')"
   ]
  },
  {
   "cell_type": "markdown",
   "metadata": {},
   "source": [
    "# RNN\n",
    "\n",
    "A problem with using RNN as a learning algorithms is that it requires more of a clear pattern and knowing bitcoin, there are usually no patterns since it's a highly manipulative asset. As the model tries to forecast further into the future, the errors that it may picked up while trying to forecasting will be magnified the further we try to forecast. I'll prove this by saving a testset and then comparing to the forecasted data. Even though the purpose of rNN is to forecast into the unknown, our unknown will be the tested against the test dataset created by spiting the original dataset into a training and test dataset. Once I'm happy with its performance on the test dataset and it proves that it won't be able to forecast bitcoin's price, i'll determine if I should use it to forecast into the unknown. When I plan on actually forecasting into the unknown, I will retrain my model on ALL of the available data, I won't have data to compare the forecast predictions. "
   ]
  },
  {
   "cell_type": "markdown",
   "metadata": {},
   "source": [
    "## Scaling"
   ]
  },
  {
   "cell_type": "markdown",
   "metadata": {},
   "source": [
    "Because of how rNN works, they're going to feed output back into themselves, we need to scale our label. I never scaled the label themselves before but because we're feeding the output back into themselves we should scale our label. I still plan on scaling to the training dataset only and not include the testset to prevent data leakage.\n"
   ]
  },
  {
   "cell_type": "code",
   "execution_count": 61,
   "metadata": {},
   "outputs": [],
   "source": [
    "# Import and create an instance for the scaler, MinMaxScaler\n",
    "from sklearn.preprocessing import MinMaxScaler\n",
    "scale = MinMaxScaler()\n",
    "\n",
    "# Had to create new dataframe with the Date and label, which should be sorted by ascending date order already\n",
    "train = pd.DataFrame(train_set['Weighted_price'])\n",
    "\n",
    "# Create new dataframe with the Date and label, sorted by ascending date order already\n",
    "test = pd.DataFrame(test_set['Weighted_price'])\n"
   ]
  },
  {
   "cell_type": "code",
   "execution_count": 62,
   "metadata": {},
   "outputs": [
    {
     "data": {
      "text/html": [
       "<div>\n",
       "<style scoped>\n",
       "    .dataframe tbody tr th:only-of-type {\n",
       "        vertical-align: middle;\n",
       "    }\n",
       "\n",
       "    .dataframe tbody tr th {\n",
       "        vertical-align: top;\n",
       "    }\n",
       "\n",
       "    .dataframe thead th {\n",
       "        text-align: right;\n",
       "    }\n",
       "</style>\n",
       "<table border=\"1\" class=\"dataframe\">\n",
       "  <thead>\n",
       "    <tr style=\"text-align: right;\">\n",
       "      <th></th>\n",
       "      <th>Weighted_price</th>\n",
       "    </tr>\n",
       "    <tr>\n",
       "      <th>Date</th>\n",
       "      <th></th>\n",
       "    </tr>\n",
       "  </thead>\n",
       "  <tbody>\n",
       "    <tr>\n",
       "      <th>2013-04-28</th>\n",
       "      <td>134.096667</td>\n",
       "    </tr>\n",
       "    <tr>\n",
       "      <th>2013-04-29</th>\n",
       "      <td>142.010000</td>\n",
       "    </tr>\n",
       "    <tr>\n",
       "      <th>2013-04-30</th>\n",
       "      <td>139.993333</td>\n",
       "    </tr>\n",
       "    <tr>\n",
       "      <th>2013-05-01</th>\n",
       "      <td>121.533333</td>\n",
       "    </tr>\n",
       "    <tr>\n",
       "      <th>2013-05-02</th>\n",
       "      <td>107.696667</td>\n",
       "    </tr>\n",
       "    <tr>\n",
       "      <th>...</th>\n",
       "      <td>...</td>\n",
       "    </tr>\n",
       "    <tr>\n",
       "      <th>2019-11-12</th>\n",
       "      <td>8784.953333</td>\n",
       "    </tr>\n",
       "    <tr>\n",
       "      <th>2019-11-13</th>\n",
       "      <td>8802.250000</td>\n",
       "    </tr>\n",
       "    <tr>\n",
       "      <th>2019-11-14</th>\n",
       "      <td>8742.530000</td>\n",
       "    </tr>\n",
       "    <tr>\n",
       "      <th>2019-11-15</th>\n",
       "      <td>8569.233333</td>\n",
       "    </tr>\n",
       "    <tr>\n",
       "      <th>2019-11-16</th>\n",
       "      <td>8538.910000</td>\n",
       "    </tr>\n",
       "  </tbody>\n",
       "</table>\n",
       "<p>2394 rows × 1 columns</p>\n",
       "</div>"
      ],
      "text/plain": [
       "            Weighted_price\n",
       "Date                      \n",
       "2013-04-28      134.096667\n",
       "2013-04-29      142.010000\n",
       "2013-04-30      139.993333\n",
       "2013-05-01      121.533333\n",
       "2013-05-02      107.696667\n",
       "...                    ...\n",
       "2019-11-12     8784.953333\n",
       "2019-11-13     8802.250000\n",
       "2019-11-14     8742.530000\n",
       "2019-11-15     8569.233333\n",
       "2019-11-16     8538.910000\n",
       "\n",
       "[2394 rows x 1 columns]"
      ]
     },
     "execution_count": 62,
     "metadata": {},
     "output_type": "execute_result"
    }
   ],
   "source": [
    "train"
   ]
  },
  {
   "cell_type": "code",
   "execution_count": 63,
   "metadata": {},
   "outputs": [
    {
     "data": {
      "text/html": [
       "<div>\n",
       "<style scoped>\n",
       "    .dataframe tbody tr th:only-of-type {\n",
       "        vertical-align: middle;\n",
       "    }\n",
       "\n",
       "    .dataframe tbody tr th {\n",
       "        vertical-align: top;\n",
       "    }\n",
       "\n",
       "    .dataframe thead th {\n",
       "        text-align: right;\n",
       "    }\n",
       "</style>\n",
       "<table border=\"1\" class=\"dataframe\">\n",
       "  <thead>\n",
       "    <tr style=\"text-align: right;\">\n",
       "      <th></th>\n",
       "      <th>Weighted_price</th>\n",
       "    </tr>\n",
       "    <tr>\n",
       "      <th>Date</th>\n",
       "      <th></th>\n",
       "    </tr>\n",
       "  </thead>\n",
       "  <tbody>\n",
       "    <tr>\n",
       "      <th>2019-11-17</th>\n",
       "      <td>8602.246667</td>\n",
       "    </tr>\n",
       "    <tr>\n",
       "      <th>2019-11-18</th>\n",
       "      <td>8412.046667</td>\n",
       "    </tr>\n",
       "    <tr>\n",
       "      <th>2019-11-19</th>\n",
       "      <td>8238.210000</td>\n",
       "    </tr>\n",
       "    <tr>\n",
       "      <th>2019-11-20</th>\n",
       "      <td>8091.673333</td>\n",
       "    </tr>\n",
       "    <tr>\n",
       "      <th>2019-11-21</th>\n",
       "      <td>7783.410000</td>\n",
       "    </tr>\n",
       "    <tr>\n",
       "      <th>...</th>\n",
       "      <td>...</td>\n",
       "    </tr>\n",
       "    <tr>\n",
       "      <th>2020-08-04</th>\n",
       "      <td>11228.473333</td>\n",
       "    </tr>\n",
       "    <tr>\n",
       "      <th>2020-08-05</th>\n",
       "      <td>11563.976667</td>\n",
       "    </tr>\n",
       "    <tr>\n",
       "      <th>2020-08-06</th>\n",
       "      <td>11760.273333</td>\n",
       "    </tr>\n",
       "    <tr>\n",
       "      <th>2020-08-07</th>\n",
       "      <td>11636.033333</td>\n",
       "    </tr>\n",
       "    <tr>\n",
       "      <th>2020-08-08</th>\n",
       "      <td>11704.180000</td>\n",
       "    </tr>\n",
       "  </tbody>\n",
       "</table>\n",
       "<p>266 rows × 1 columns</p>\n",
       "</div>"
      ],
      "text/plain": [
       "            Weighted_price\n",
       "Date                      \n",
       "2019-11-17     8602.246667\n",
       "2019-11-18     8412.046667\n",
       "2019-11-19     8238.210000\n",
       "2019-11-20     8091.673333\n",
       "2019-11-21     7783.410000\n",
       "...                    ...\n",
       "2020-08-04    11228.473333\n",
       "2020-08-05    11563.976667\n",
       "2020-08-06    11760.273333\n",
       "2020-08-07    11636.033333\n",
       "2020-08-08    11704.180000\n",
       "\n",
       "[266 rows x 1 columns]"
      ]
     },
     "execution_count": 63,
     "metadata": {},
     "output_type": "execute_result"
    }
   ],
   "source": [
    "test"
   ]
  },
  {
   "cell_type": "code",
   "execution_count": 64,
   "metadata": {},
   "outputs": [],
   "source": [
    "# Scaled from training set only to prevent data leakage and any form of cheating\n",
    "scale.fit(train)\n",
    "\n",
    "# Transform on train and test sets\n",
    "train_scaled = scale.transform(train)\n",
    "test_scaled = scale.transform(test)"
   ]
  },
  {
   "cell_type": "markdown",
   "metadata": {},
   "source": [
    "## Time series generator"
   ]
  },
  {
   "cell_type": "code",
   "execution_count": 65,
   "metadata": {},
   "outputs": [],
   "source": [
    "from tensorflow.keras.preprocessing.sequence import TimeseriesGenerator\n",
    "\n",
    "# Im setting up the length to capture an entire period to hopfully catch any seasonality which is 365 days, 1 year. \n",
    "length = 365\n",
    "\n",
    "# Creating a generator using train_scaled as a source of x, y, length of 365, and feeding in 1 batch at a time. This is required for rNN\n",
    "generator = TimeseriesGenerator(train_scaled, train_scaled, length=length, batch_size=1)"
   ]
  },
  {
   "cell_type": "code",
   "execution_count": 66,
   "metadata": {},
   "outputs": [],
   "source": [
    "# This imports libraries needed to create our model\n",
    "from tensorflow.keras.models import Sequential\n",
    "from tensorflow.keras.layers import Dense, LSTM\n",
    "\n",
    "# Using only one feature for the time series\n",
    "n_features = 1"
   ]
  },
  {
   "cell_type": "code",
   "execution_count": 67,
   "metadata": {},
   "outputs": [],
   "source": [
    "# Model creation\n",
    "model = Sequential()\n",
    "\n",
    "# Adding one layer with 100 LSTM specialized neurons with rectified linear unit as the activation function\n",
    "model.add(LSTM(100, activation='relu', input_shape=(length, n_features)))\n",
    "\n",
    "# Final output layer with one neuron\n",
    "model.add(Dense(1))\n",
    "\n",
    "# Compiling the model with adam as the variant descent gradient\n",
    "model.compile(optimizer='adam', loss='mse')"
   ]
  },
  {
   "cell_type": "code",
   "execution_count": 68,
   "metadata": {},
   "outputs": [
    {
     "name": "stdout",
     "output_type": "stream",
     "text": [
      "Model: \"sequential_2\"\n",
      "_________________________________________________________________\n",
      "Layer (type)                 Output Shape              Param #   \n",
      "=================================================================\n",
      "lstm_2 (LSTM)                (None, 100)               40800     \n",
      "_________________________________________________________________\n",
      "dense_2 (Dense)              (None, 1)                 101       \n",
      "=================================================================\n",
      "Total params: 40,901\n",
      "Trainable params: 40,901\n",
      "Non-trainable params: 0\n",
      "_________________________________________________________________\n"
     ]
    }
   ],
   "source": [
    "# Shows the final model summary\n",
    "model.summary()"
   ]
  },
  {
   "cell_type": "code",
   "execution_count": 69,
   "metadata": {},
   "outputs": [
    {
     "name": "stdout",
     "output_type": "stream",
     "text": [
      "Epoch 1/20\n",
      "2029/2029 [==============================] - 195s 96ms/step - loss: 0.0014 - val_loss: 0.0016\n",
      "Epoch 2/20\n",
      "2029/2029 [==============================] - 178s 88ms/step - loss: 5.3745e-04 - val_loss: 2.4372e-04\n",
      "Epoch 3/20\n",
      "2029/2029 [==============================] - 179s 88ms/step - loss: 5.1003e-04 - val_loss: 1.0616e-04\n",
      "Epoch 4/20\n",
      "2029/2029 [==============================] - 156s 77ms/step - loss: 3.7381e-04 - val_loss: 0.0016\n",
      "Epoch 5/20\n",
      "2029/2029 [==============================] - 157s 77ms/step - loss: 2.8338e-04 - val_loss: 9.6009e-07\n",
      "Epoch 6/20\n",
      "2029/2029 [==============================] - 157s 78ms/step - loss: 2.7646e-04 - val_loss: 1.8447e-04\n",
      "Epoch 7/20\n",
      "2029/2029 [==============================] - 153s 75ms/step - loss: 2.6801e-04 - val_loss: 8.1848e-04\n",
      "Epoch 8/20\n",
      "2029/2029 [==============================] - 155s 76ms/step - loss: 2.5280e-04 - val_loss: 9.2905e-05\n",
      "Epoch 9/20\n",
      "2029/2029 [==============================] - 155s 76ms/step - loss: 2.4105e-04 - val_loss: 6.2661e-06\n",
      "Epoch 10/20\n",
      "2029/2029 [==============================] - 154s 76ms/step - loss: 2.1586e-04 - val_loss: 4.1197e-04\n",
      "Epoch 11/20\n",
      "2029/2029 [==============================] - 159s 78ms/step - loss: 1.9992e-04 - val_loss: 1.0708e-04\n",
      "Epoch 12/20\n",
      "2029/2029 [==============================] - 165s 81ms/step - loss: 1.8741e-04 - val_loss: 3.2170e-04\n",
      "Epoch 13/20\n",
      "2029/2029 [==============================] - 164s 81ms/step - loss: 1.9199e-04 - val_loss: 4.1166e-06\n",
      "Epoch 14/20\n",
      "2029/2029 [==============================] - 163s 80ms/step - loss: 2.0928e-04 - val_loss: 3.0781e-05\n",
      "Epoch 15/20\n",
      "2029/2029 [==============================] - 163s 80ms/step - loss: 1.8687e-04 - val_loss: 3.0428e-05\n",
      "Epoch 00015: early stopping\n"
     ]
    },
    {
     "data": {
      "text/plain": [
       "<tensorflow.python.keras.callbacks.History at 0x1c21ae1f488>"
      ]
     },
     "execution_count": 69,
     "metadata": {},
     "output_type": "execute_result"
    }
   ],
   "source": [
    "# Import EarlyStopping to stop the fitting when the val_loss starts to increase instead of decreasing\n",
    "from tensorflow.keras.callbacks import EarlyStopping\n",
    "\n",
    "# Variable instance for the early stop function\n",
    "early_stop = EarlyStopping(monitor= 'val_loss', verbose=2,patience=10)\n",
    "\n",
    "# Since we used a generator, to forecast, for rNN to used the validation data, the validation data has to be a generator too.\n",
    "validation_generator = TimeseriesGenerator(test_scaled, test_scaled, length=265, batch_size=1)\n",
    "\n",
    "# Use fit_generator instead of fit because rNN requires it to make the batch work\n",
    "model.fit_generator (generator, epochs=20, validation_data=validation_generator, callbacks=[early_stop])\n"
   ]
  },
  {
   "cell_type": "code",
   "execution_count": 70,
   "metadata": {},
   "outputs": [
    {
     "data": {
      "text/plain": [
       "<matplotlib.axes._subplots.AxesSubplot at 0x1c219599c48>"
      ]
     },
     "execution_count": 70,
     "metadata": {},
     "output_type": "execute_result"
    },
    {
     "data": {
      "image/png": "[encoded data removed]",
      "text/plain": [
       "<Figure size 432x288 with 1 Axes>"
      ]
     },
     "metadata": {
      "needs_background": "light"
     },
     "output_type": "display_data"
    }
   ],
   "source": [
    "losses = pd.DataFrame(model.history.history)\n",
    "losses.plot()"
   ]
  },
  {
   "cell_type": "markdown",
   "metadata": {},
   "source": [
    "## Evaluate on test data"
   ]
  },
  {
   "cell_type": "code",
   "execution_count": 71,
   "metadata": {},
   "outputs": [],
   "source": [
    "# I'm creating a batch till the begining of the testset so when I compare the forecast and testset, it'll have matching timestamps\n",
    "first_eval_batch = train_scaled[-length:]\n",
    "\n",
    "# Reshaping the batch since it needs to have the same shape since rNN expects it. Predicts one timestamp ahead\n",
    "first_eval_batch = first_eval_batch.reshape((1, length, n_features))"
   ]
  },
  {
   "cell_type": "code",
   "execution_count": 72,
   "metadata": {},
   "outputs": [],
   "source": [
    "test_predictions = []\n",
    "\n",
    "first_eval_batch = train_scaled[-length:]\n",
    "current_batch = first_eval_batch.reshape((1, length, n_features))\n",
    "\n",
    "for i in range(len(test)):\n",
    "    \n",
    "    # get prediction 1 time stamp ahead ([0] is for grabbing just the number instead of [array])\n",
    "    current_pred = model.predict(current_batch)[0]\n",
    "    \n",
    "    # store prediction\n",
    "    test_predictions.append(current_pred) \n",
    "    \n",
    "    # update batch to now include prediction and drop first value\n",
    "    current_batch = np.append(current_batch[:,1:,:],[[current_pred]],axis=1)"
   ]
  },
  {
   "cell_type": "code",
   "execution_count": 73,
   "metadata": {},
   "outputs": [
    {
     "data": {
      "text/html": [
       "<div>\n",
       "<style scoped>\n",
       "    .dataframe tbody tr th:only-of-type {\n",
       "        vertical-align: middle;\n",
       "    }\n",
       "\n",
       "    .dataframe tbody tr th {\n",
       "        vertical-align: top;\n",
       "    }\n",
       "\n",
       "    .dataframe thead th {\n",
       "        text-align: right;\n",
       "    }\n",
       "</style>\n",
       "<table border=\"1\" class=\"dataframe\">\n",
       "  <thead>\n",
       "    <tr style=\"text-align: right;\">\n",
       "      <th></th>\n",
       "      <th>Weighted_price</th>\n",
       "      <th>Predictions</th>\n",
       "    </tr>\n",
       "    <tr>\n",
       "      <th>Date</th>\n",
       "      <th></th>\n",
       "      <th></th>\n",
       "    </tr>\n",
       "  </thead>\n",
       "  <tbody>\n",
       "    <tr>\n",
       "      <th>2019-11-17</th>\n",
       "      <td>8602.246667</td>\n",
       "      <td>8623.622230</td>\n",
       "    </tr>\n",
       "    <tr>\n",
       "      <th>2019-11-18</th>\n",
       "      <td>8412.046667</td>\n",
       "      <td>8731.008397</td>\n",
       "    </tr>\n",
       "    <tr>\n",
       "      <th>2019-11-19</th>\n",
       "      <td>8238.210000</td>\n",
       "      <td>8831.070645</td>\n",
       "    </tr>\n",
       "    <tr>\n",
       "      <th>2019-11-20</th>\n",
       "      <td>8091.673333</td>\n",
       "      <td>8925.114411</td>\n",
       "    </tr>\n",
       "    <tr>\n",
       "      <th>2019-11-21</th>\n",
       "      <td>7783.410000</td>\n",
       "      <td>9016.982835</td>\n",
       "    </tr>\n",
       "    <tr>\n",
       "      <th>...</th>\n",
       "      <td>...</td>\n",
       "      <td>...</td>\n",
       "    </tr>\n",
       "    <tr>\n",
       "      <th>2020-08-04</th>\n",
       "      <td>11228.473333</td>\n",
       "      <td>13355.923661</td>\n",
       "    </tr>\n",
       "    <tr>\n",
       "      <th>2020-08-05</th>\n",
       "      <td>11563.976667</td>\n",
       "      <td>13355.959379</td>\n",
       "    </tr>\n",
       "    <tr>\n",
       "      <th>2020-08-06</th>\n",
       "      <td>11760.273333</td>\n",
       "      <td>13355.991641</td>\n",
       "    </tr>\n",
       "    <tr>\n",
       "      <th>2020-08-07</th>\n",
       "      <td>11636.033333</td>\n",
       "      <td>13356.021598</td>\n",
       "    </tr>\n",
       "    <tr>\n",
       "      <th>2020-08-08</th>\n",
       "      <td>11704.180000</td>\n",
       "      <td>13356.051555</td>\n",
       "    </tr>\n",
       "  </tbody>\n",
       "</table>\n",
       "<p>266 rows × 2 columns</p>\n",
       "</div>"
      ],
      "text/plain": [
       "            Weighted_price   Predictions\n",
       "Date                                    \n",
       "2019-11-17     8602.246667   8623.622230\n",
       "2019-11-18     8412.046667   8731.008397\n",
       "2019-11-19     8238.210000   8831.070645\n",
       "2019-11-20     8091.673333   8925.114411\n",
       "2019-11-21     7783.410000   9016.982835\n",
       "...                    ...           ...\n",
       "2020-08-04    11228.473333  13355.923661\n",
       "2020-08-05    11563.976667  13355.959379\n",
       "2020-08-06    11760.273333  13355.991641\n",
       "2020-08-07    11636.033333  13356.021598\n",
       "2020-08-08    11704.180000  13356.051555\n",
       "\n",
       "[266 rows x 2 columns]"
      ]
     },
     "execution_count": 73,
     "metadata": {},
     "output_type": "execute_result"
    }
   ],
   "source": [
    "# Since the true predictions are scaled, we need to unscale it to compare with the test set that we separated earlier\n",
    "true_predictions = scale.inverse_transform(test_predictions)\n",
    "\n",
    "# Creates a new column 'Predictions' onto the test set\n",
    "test['Predictions'] = true_predictions\n",
    "test"
   ]
  },
  {
   "cell_type": "code",
   "execution_count": 74,
   "metadata": {},
   "outputs": [
    {
     "data": {
      "text/plain": [
       "<matplotlib.axes._subplots.AxesSubplot at 0x1c21b2ba8c8>"
      ]
     },
     "execution_count": 74,
     "metadata": {},
     "output_type": "execute_result"
    },
    {
     "data": {
      "image/png": "[encoded data removed]",
      "text/plain": [
       "<Figure size 1080x576 with 1 Axes>"
      ]
     },
     "metadata": {
      "needs_background": "light"
     },
     "output_type": "display_data"
    }
   ],
   "source": [
    "test.plot(figsize=(15,8))"
   ]
  },
  {
   "cell_type": "markdown",
   "metadata": {},
   "source": [
    "## RNN conclusion\n",
    "\n",
    "So it's clear that this model wasn't able to forecast bitcoin's price and this was expected. As the model tries to forecast further into the future, the errors that it may picked up while trying to forecasting will be magnified the further we try to forecast because the model will be forecasting the forecast."
   ]
  },
  {
   "cell_type": "markdown",
   "metadata": {},
   "source": [
    "What I would usually do is retrain the model on the entire dataset then truely predict into the unknown and then appending the plot onto the end of bitcoin's price chart but it looks like bitcoin's price just plateaued around 16 192.99 and was repeated several time. Retraining on the model will most likely not help with forecasting more accurate bitcoin price. So i'll stop using rNN learning algorithm to predict bitcoin's price. "
   ]
  },
  {
   "cell_type": "markdown",
   "metadata": {},
   "source": [
    "There are many things that I could try and improve the model such as:\n",
    "   * Increase seasonality\n",
    "   * Add more layers\n",
    "   * Try dropout function"
   ]
  },
  {
   "cell_type": "markdown",
   "metadata": {},
   "source": [
    "# ARIMA"
   ]
  },
  {
   "cell_type": "markdown",
   "metadata": {},
   "source": [
    "An ARIMA (AutoRegressive Integrated Moving Average) model is a class of statistical models for analyzing and forecasting time series data. It assumes that the data becomes stationary after differencing.\n",
    "\n",
    "The acronyms stand for:\n",
    "   * AR: Autoregression. A model that uses the dependent relationship between an observation and some number of lagged observations. 2.I: Integrated. The use of differencing of raw observations (e.g. subtracting an observation from an observation at the previous time step) in order to make the time series stationary.\n",
    "   * MA: Moving Average. A model that uses the dependency between an observation and a residual error from a moving average model applied to lagged observations.\n",
    "\n",
    "Each of these components are explicitly specified in the model as a parameter. A standard notation is used of ARIMA(p,d,q) where the parameters are substituted with integer values to quickly indicate the specific ARIMA model being used.\n",
    "\n",
    "Parameters are defined as follows:\n",
    "\n",
    "   * p: The number of lag observations included in the model, also called the lag order.\n",
    "   * d: The number of times that the raw observations are differenced, also called the degree of differencing.\n",
    "   * q: The size of the moving average window, also called the order of moving average.\n",
    "   \n",
    "\n",
    "Adopting an ARIMA model for a time series assumes that the underlying process that generated the observations is an ARIMA process. It helps to motivate the need to confirm the assumptions of the model in the raw observations and in the residual errors of forecasts from the model.\n"
   ]
  },
  {
   "cell_type": "markdown",
   "metadata": {},
   "source": [
    "## Stationarity check and STL-decomposition of the series"
   ]
  },
  {
   "cell_type": "code",
   "execution_count": null,
   "metadata": {},
   "outputs": [],
   "source": [
    "import statsmodels.api as sm\n",
    "\n",
    "plt.figure(figsize=[15,7])\n",
    "sm.tsa.seasonal_decompose(btc.Date, btc.Weighted_price).plot()\n",
    "print(\"Dickey–Fuller test: p=%f\" % sm.tsa.stattools.adfuller(btc.Weighted_price)[1])"
   ]
  }
 ],
 "metadata": {
  "kernelspec": {
   "display_name": "Python 3",
   "language": "python",
   "name": "python3"
  },
  "language_info": {
   "codemirror_mode": {
    "name": "ipython",
    "version": 3
   },
   "file_extension": ".py",
   "mimetype": "text/x-python",
   "name": "python",
   "nbconvert_exporter": "python",
   "pygments_lexer": "ipython3",
   "version": "3.7.6"
  }
 },
 "nbformat": 4,
 "nbformat_minor": 4
}
