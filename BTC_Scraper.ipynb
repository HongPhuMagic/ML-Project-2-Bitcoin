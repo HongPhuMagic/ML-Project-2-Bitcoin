{
 "cells": [
  {
   "cell_type": "markdown",
   "metadata": {},
   "source": [
    "# Bitcoin (BTC) webscraping!"
   ]
  },
  {
   "cell_type": "markdown",
   "metadata": {},
   "source": [
    "I will be using Selenium as a tool to scrape Coinmarketcap.com"
   ]
  },
  {
   "cell_type": "markdown",
   "metadata": {},
   "source": [
    "The reason I selected Selenium is due to the fact that Selenium offers htlm interactions with any website. With that, I plan on creating a trading bot one day for fun but for now, I will be using it for webscrapping. "
   ]
  },
  {
   "cell_type": "markdown",
   "metadata": {},
   "source": [
    "I could either scrape data by interacting with APIs of different exchanges or by coinmarketcap. All exchanges have slightly varying prices, no exchanges will have exactly the same price, and often have very difficult and unintuitive APIs to obtain OHLC (Open, High, Low, Close) so I chose coinmarketcap. Coinmarketcap averages all different exchanges OHLC and I can easily scrape for this to create a dataset for my algorithms to use. "
   ]
  },
  {
   "cell_type": "code",
   "execution_count": 19,
   "metadata": {},
   "outputs": [],
   "source": [
    "from selenium import webdriver\n",
    "\n",
    "# Showing the path to the webdrive location\n",
    "PATH = 'C:\\Program Files (x86)\\chromedriver.exe'\n",
    "\n",
    "# Creating a driver object containing the browser selection and linking it to the webdrive executable  \n",
    "driver = webdriver.Chrome(PATH)\n",
    "\n",
    "# Getting the targetted website\n",
    "driver.get(\"https://coinmarketcap.com/currencies/bitcoin/historical-data/?start=20130428&end=20200809\")\n",
    "\n",
    "\n",
    "# Creating all the neccessary list to create a CSV file later\n",
    "dateList=[]\n",
    "openList=[]\n",
    "closeList=[]\n",
    "highList=[]\n",
    "lowList=[]\n",
    "volumeList=[]\n",
    "\n",
    "tr = driver.find_elements_by_xpath(\"//td[@class='cmc-table__cell cmc-table__cell--sticky cmc-table__cell--left']\")\n",
    "\n",
    "# Since there are multiple exact same class name within the class 'cmc-table-row', I would have to manually put different 'tr' index.\n",
    "otr = driver.find_elements_by_xpath(\"//tr[@class='cmc-table-row']/td[2]\")\n",
    "htr = driver.find_elements_by_xpath(\"//tr[@class='cmc-table-row']/td[3]\")\n",
    "ltr = driver.find_elements_by_xpath(\"//tr[@class='cmc-table-row']/td[4]\")\n",
    "ctr = driver.find_elements_by_xpath(\"//tr[@class='cmc-table-row']/td[5]\")\n",
    "vtr = driver.find_elements_by_xpath(\"//tr[@class='cmc-table-row']/td[6]\")\n",
    "\n",
    "# Looping all of the variable containing the list of htlm elements and appending the text to the list created earlier\n",
    "for i in tr:\n",
    "    dateList.append(i.text)\n",
    "    \n",
    "for j in otr:\n",
    "    openList.append(j.text)\n",
    "    \n",
    "for k in htr:\n",
    "    highList.append(k.text)\n",
    "    \n",
    "for l in ltr:\n",
    "    lowList.append(l.text)\n",
    "    \n",
    "for m in ctr:\n",
    "    closeList.append(m.text)\n",
    "    \n",
    "for n in vtr:\n",
    "    volumeList.append(n.text)\n",
    "    \n",
    "driver.quit()"
   ]
  },
  {
   "cell_type": "code",
   "execution_count": 26,
   "metadata": {},
   "outputs": [],
   "source": [
    "# Importing csv to create a CSV file\n",
    "import csv"
   ]
  },
  {
   "cell_type": "code",
   "execution_count": 31,
   "metadata": {},
   "outputs": [],
   "source": [
    "# Creating the column names for the dataframe\n",
    "ro0 = ['Date', 'Open', 'High', 'Low', \"Close\", \"Volumn\"]\n",
    "\n",
    "# Creating a CSV file by appending the list I've created\n",
    "row = zip(dateList, openList, highList, lowList, closeList, volumeList)\n",
    "with open('CMC_BTC_DS.csv','w', encoding='utf-8', newline='') as csvfile:\n",
    "    links_writer=csv.writer(csvfile)\n",
    "    links_writer.writerow(ro0)\n",
    "    for item in row:\n",
    "        links_writer.writerow(item)"
   ]
  }
 ],
 "metadata": {
  "kernelspec": {
   "display_name": "Python 3",
   "language": "python",
   "name": "python3"
  },
  "language_info": {
   "codemirror_mode": {
    "name": "ipython",
    "version": 3
   },
   "file_extension": ".py",
   "mimetype": "text/x-python",
   "name": "python",
   "nbconvert_exporter": "python",
   "pygments_lexer": "ipython3",
   "version": "3.7.6"
  }
 },
 "nbformat": 4,
 "nbformat_minor": 4
}
